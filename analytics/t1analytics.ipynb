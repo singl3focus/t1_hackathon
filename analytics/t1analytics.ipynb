{
 "cells": [
  {
   "cell_type": "code",
   "execution_count": 3,
   "id": "32e0d17f-eb36-4a57-bee5-2d17ae2b8263",
   "metadata": {},
   "outputs": [],
   "source": [
    "import pandas as pd\n",
    "import numpy as np"
   ]
  },
  {
   "cell_type": "code",
   "execution_count": 8,
   "id": "eaee90a6-a611-4dcf-8ac1-4bb46d9df40f",
   "metadata": {},
   "outputs": [],
   "source": [
    "data_for_spb = pd.read_csv('data_for_spb_hakaton_entities1-Table 1.csv', sep = ';')\n",
    "history = pd.read_csv('history-Table 1.csv', sep = ';')\n",
    "sprints = pd.read_csv('sprints-Table 1.csv', sep = ';')"
   ]
  },
  {
   "cell_type": "code",
   "execution_count": null,
   "id": "37a3ad2a-97c3-428e-812f-1c110422a6bb",
   "metadata": {},
   "outputs": [],
   "source": []
  }
 ],
 "metadata": {
  "kernelspec": {
   "display_name": "Python 3 (ipykernel)",
   "language": "python",
   "name": "python3"
  },
  "language_info": {
   "codemirror_mode": {
    "name": "ipython",
    "version": 3
   },
   "file_extension": ".py",
   "mimetype": "text/x-python",
   "name": "python",
   "nbconvert_exporter": "python",
   "pygments_lexer": "ipython3",
   "version": "3.10.7"
  }
 },
 "nbformat": 4,
 "nbformat_minor": 5
}
