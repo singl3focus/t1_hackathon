{
 "cells": [
  {
   "cell_type": "code",
   "execution_count": 2,
   "metadata": {},
   "outputs": [
    {
     "data": {
      "text/html": [
       "<div>\n",
       "<style scoped>\n",
       "    .dataframe tbody tr th:only-of-type {\n",
       "        vertical-align: middle;\n",
       "    }\n",
       "\n",
       "    .dataframe tbody tr th {\n",
       "        vertical-align: top;\n",
       "    }\n",
       "\n",
       "    .dataframe thead th {\n",
       "        text-align: right;\n",
       "    }\n",
       "</style>\n",
       "<table border=\"1\" class=\"dataframe\">\n",
       "  <thead>\n",
       "    <tr style=\"text-align: right;\">\n",
       "      <th></th>\n",
       "      <th>entity_id</th>\n",
       "      <th>area</th>\n",
       "      <th>type</th>\n",
       "      <th>status</th>\n",
       "      <th>state</th>\n",
       "      <th>priority</th>\n",
       "      <th>ticket_number</th>\n",
       "      <th>name</th>\n",
       "      <th>create_date</th>\n",
       "      <th>created_by</th>\n",
       "      <th>...</th>\n",
       "      <th>sprint_status</th>\n",
       "      <th>sprint_start_date</th>\n",
       "      <th>sprint_end_date</th>\n",
       "      <th>entity_ids</th>\n",
       "      <th>history_property_name</th>\n",
       "      <th>history_date</th>\n",
       "      <th>history_version</th>\n",
       "      <th>history_change_type</th>\n",
       "      <th>history_change</th>\n",
       "      <th>Столбец1</th>\n",
       "    </tr>\n",
       "  </thead>\n",
       "  <tbody>\n",
       "    <tr>\n",
       "      <th>0</th>\n",
       "      <td>94297</td>\n",
       "      <td>Система.Таск-трекер</td>\n",
       "      <td>Дефект</td>\n",
       "      <td>Закрыто</td>\n",
       "      <td>Normal</td>\n",
       "      <td>Средний</td>\n",
       "      <td>PPTS-1965</td>\n",
       "      <td>[FE] Бэклог. Кастомизация колонок. Кастомизаци...</td>\n",
       "      <td>2023-03-16 16:59:00.000000</td>\n",
       "      <td>А. К.</td>\n",
       "      <td>...</td>\n",
       "      <td>Закрыт</td>\n",
       "      <td>2024-08-28 19:00:00.000000</td>\n",
       "      <td>2024-09-10 19:00:00.000000</td>\n",
       "      <td>94297</td>\n",
       "      <td>Время решения 3ЛП ФАКТ</td>\n",
       "      <td>09.10.2024 11:17</td>\n",
       "      <td>1.0</td>\n",
       "      <td>FIELD_CHANGED</td>\n",
       "      <td>&lt;empty&gt; -&gt; 2024-09-10 11:17:06.680223</td>\n",
       "      <td>NaN</td>\n",
       "    </tr>\n",
       "    <tr>\n",
       "      <th>1</th>\n",
       "      <td>94297</td>\n",
       "      <td>Система.Таск-трекер</td>\n",
       "      <td>Дефект</td>\n",
       "      <td>Закрыто</td>\n",
       "      <td>Normal</td>\n",
       "      <td>Средний</td>\n",
       "      <td>PPTS-1965</td>\n",
       "      <td>[FE] Бэклог. Кастомизация колонок. Кастомизаци...</td>\n",
       "      <td>2023-03-16 16:59:00.000000</td>\n",
       "      <td>А. К.</td>\n",
       "      <td>...</td>\n",
       "      <td>Закрыт</td>\n",
       "      <td>2024-08-28 19:00:00.000000</td>\n",
       "      <td>2024-09-10 19:00:00.000000</td>\n",
       "      <td>94297</td>\n",
       "      <td>Время решения (ФАКТ)</td>\n",
       "      <td>09.10.2024 11:17</td>\n",
       "      <td>1.0</td>\n",
       "      <td>FIELD_CHANGED</td>\n",
       "      <td>&lt;empty&gt; -&gt; 2024-09-10 11:17:06.680223</td>\n",
       "      <td>NaN</td>\n",
       "    </tr>\n",
       "    <tr>\n",
       "      <th>2</th>\n",
       "      <td>94297</td>\n",
       "      <td>Система.Таск-трекер</td>\n",
       "      <td>Дефект</td>\n",
       "      <td>Закрыто</td>\n",
       "      <td>Normal</td>\n",
       "      <td>Средний</td>\n",
       "      <td>PPTS-1965</td>\n",
       "      <td>[FE] Бэклог. Кастомизация колонок. Кастомизаци...</td>\n",
       "      <td>2023-03-16 16:59:00.000000</td>\n",
       "      <td>А. К.</td>\n",
       "      <td>...</td>\n",
       "      <td>Закрыт</td>\n",
       "      <td>2024-08-28 19:00:00.000000</td>\n",
       "      <td>2024-09-10 19:00:00.000000</td>\n",
       "      <td>94297</td>\n",
       "      <td>Исполнитель</td>\n",
       "      <td>7/13/23 11:07</td>\n",
       "      <td>1.0</td>\n",
       "      <td>FIELD_CHANGED</td>\n",
       "      <td>user409017mail@mail.com -&gt; user408045mail@mail...</td>\n",
       "      <td>NaN</td>\n",
       "    </tr>\n",
       "    <tr>\n",
       "      <th>3</th>\n",
       "      <td>94297</td>\n",
       "      <td>Система.Таск-трекер</td>\n",
       "      <td>Дефект</td>\n",
       "      <td>Закрыто</td>\n",
       "      <td>Normal</td>\n",
       "      <td>Средний</td>\n",
       "      <td>PPTS-1965</td>\n",
       "      <td>[FE] Бэклог. Кастомизация колонок. Кастомизаци...</td>\n",
       "      <td>2023-03-16 16:59:00.000000</td>\n",
       "      <td>А. К.</td>\n",
       "      <td>...</td>\n",
       "      <td>Закрыт</td>\n",
       "      <td>2024-08-28 19:00:00.000000</td>\n",
       "      <td>2024-09-10 19:00:00.000000</td>\n",
       "      <td>94297</td>\n",
       "      <td>Исполнитель</td>\n",
       "      <td>7/21/23 11:06</td>\n",
       "      <td>3.0</td>\n",
       "      <td>FIELD_CHANGED</td>\n",
       "      <td>user4080458@mail.com -&gt; user4091341@mail.com</td>\n",
       "      <td>NaN</td>\n",
       "    </tr>\n",
       "    <tr>\n",
       "      <th>4</th>\n",
       "      <td>94297</td>\n",
       "      <td>Система.Таск-трекер</td>\n",
       "      <td>Дефект</td>\n",
       "      <td>Закрыто</td>\n",
       "      <td>Normal</td>\n",
       "      <td>Средний</td>\n",
       "      <td>PPTS-1965</td>\n",
       "      <td>[FE] Бэклог. Кастомизация колонок. Кастомизаци...</td>\n",
       "      <td>2023-03-16 16:59:00.000000</td>\n",
       "      <td>А. К.</td>\n",
       "      <td>...</td>\n",
       "      <td>Закрыт</td>\n",
       "      <td>2024-08-28 19:00:00.000000</td>\n",
       "      <td>2024-09-10 19:00:00.000000</td>\n",
       "      <td>94297</td>\n",
       "      <td>Срок исполнения</td>\n",
       "      <td>7/31/23 15:05</td>\n",
       "      <td>4.0</td>\n",
       "      <td>FIELD_CHANGED</td>\n",
       "      <td>NaN</td>\n",
       "      <td>NaN</td>\n",
       "    </tr>\n",
       "  </tbody>\n",
       "</table>\n",
       "<p>5 rows × 32 columns</p>\n",
       "</div>"
      ],
      "text/plain": [
       "   entity_id                 area    type   status   state priority  \\\n",
       "0      94297  Система.Таск-трекер  Дефект  Закрыто  Normal  Средний   \n",
       "1      94297  Система.Таск-трекер  Дефект  Закрыто  Normal  Средний   \n",
       "2      94297  Система.Таск-трекер  Дефект  Закрыто  Normal  Средний   \n",
       "3      94297  Система.Таск-трекер  Дефект  Закрыто  Normal  Средний   \n",
       "4      94297  Система.Таск-трекер  Дефект  Закрыто  Normal  Средний   \n",
       "\n",
       "  ticket_number                                               name  \\\n",
       "0     PPTS-1965  [FE] Бэклог. Кастомизация колонок. Кастомизаци...   \n",
       "1     PPTS-1965  [FE] Бэклог. Кастомизация колонок. Кастомизаци...   \n",
       "2     PPTS-1965  [FE] Бэклог. Кастомизация колонок. Кастомизаци...   \n",
       "3     PPTS-1965  [FE] Бэклог. Кастомизация колонок. Кастомизаци...   \n",
       "4     PPTS-1965  [FE] Бэклог. Кастомизация колонок. Кастомизаци...   \n",
       "\n",
       "                  create_date created_by  ... sprint_status  \\\n",
       "0  2023-03-16 16:59:00.000000      А. К.  ...        Закрыт   \n",
       "1  2023-03-16 16:59:00.000000      А. К.  ...        Закрыт   \n",
       "2  2023-03-16 16:59:00.000000      А. К.  ...        Закрыт   \n",
       "3  2023-03-16 16:59:00.000000      А. К.  ...        Закрыт   \n",
       "4  2023-03-16 16:59:00.000000      А. К.  ...        Закрыт   \n",
       "\n",
       "            sprint_start_date             sprint_end_date entity_ids  \\\n",
       "0  2024-08-28 19:00:00.000000  2024-09-10 19:00:00.000000      94297   \n",
       "1  2024-08-28 19:00:00.000000  2024-09-10 19:00:00.000000      94297   \n",
       "2  2024-08-28 19:00:00.000000  2024-09-10 19:00:00.000000      94297   \n",
       "3  2024-08-28 19:00:00.000000  2024-09-10 19:00:00.000000      94297   \n",
       "4  2024-08-28 19:00:00.000000  2024-09-10 19:00:00.000000      94297   \n",
       "\n",
       "    history_property_name      history_date history_version  \\\n",
       "0  Время решения 3ЛП ФАКТ  09.10.2024 11:17             1.0   \n",
       "1    Время решения (ФАКТ)  09.10.2024 11:17             1.0   \n",
       "2             Исполнитель     7/13/23 11:07             1.0   \n",
       "3             Исполнитель     7/21/23 11:06             3.0   \n",
       "4         Срок исполнения     7/31/23 15:05             4.0   \n",
       "\n",
       "   history_change_type                                     history_change  \\\n",
       "0        FIELD_CHANGED              <empty> -> 2024-09-10 11:17:06.680223   \n",
       "1        FIELD_CHANGED              <empty> -> 2024-09-10 11:17:06.680223   \n",
       "2        FIELD_CHANGED  user409017mail@mail.com -> user408045mail@mail...   \n",
       "3        FIELD_CHANGED       user4080458@mail.com -> user4091341@mail.com   \n",
       "4        FIELD_CHANGED                                                NaN   \n",
       "\n",
       "  Столбец1  \n",
       "0      NaN  \n",
       "1      NaN  \n",
       "2      NaN  \n",
       "3      NaN  \n",
       "4      NaN  \n",
       "\n",
       "[5 rows x 32 columns]"
      ]
     },
     "execution_count": 2,
     "metadata": {},
     "output_type": "execute_result"
    }
   ],
   "source": [
    "import pandas as pd\n",
    "\n",
    "# Загрузка данных\n",
    "data = pd.read_csv('data_for_spb_hakaton_entities1-Table 1.csv', sep=';')\n",
    "history = pd.read_csv('history-Table 1.csv', sep=';')\n",
    "sprints = pd.read_csv('sprints-Table 1.csv', sep=';')\n",
    "\n",
    "# Разделение entity_ids в таблице sprints\n",
    "sprints['entity_ids'] = sprints['entity_ids'].apply(lambda x: x.strip('{}').split(',') if pd.notnull(x) else [])\n",
    "sprints_expanded = sprints.explode('entity_ids')\n",
    "sprints_expanded['entity_id'] = sprints_expanded['entity_ids'].astype(float)\n",
    "\n",
    "# Соединение data и sprints\n",
    "data_sprints = pd.merge(data, sprints_expanded, on='entity_id', how='left')\n",
    "\n",
    "# Соединение с history\n",
    "final_table = pd.merge(data_sprints, history, on='entity_id', how='left')\n",
    "\n",
    "# Просмотр результата\n",
    "final_table.head()\n"
   ]
  },
  {
   "cell_type": "code",
   "execution_count": 3,
   "metadata": {},
   "outputs": [],
   "source": [
    "data = final_table.copy()"
   ]
  },
  {
   "cell_type": "code",
   "execution_count": 4,
   "metadata": {},
   "outputs": [
    {
     "data": {
      "text/plain": [
       "Index(['entity_id', 'area', 'type', 'status', 'state', 'priority',\n",
       "       'ticket_number', 'name', 'create_date', 'created_by', 'update_date',\n",
       "       'updated_by', 'parent_ticket_id', 'assignee', 'owner', 'due_date',\n",
       "       'rank', 'estimation', 'spent', 'workgroup', 'resolution', 'sprint_name',\n",
       "       'sprint_status', 'sprint_start_date', 'sprint_end_date', 'entity_ids',\n",
       "       'history_property_name', 'history_date', 'history_version',\n",
       "       'history_change_type', 'history_change', 'Столбец1'],\n",
       "      dtype='object')"
      ]
     },
     "execution_count": 4,
     "metadata": {},
     "output_type": "execute_result"
    }
   ],
   "source": [
    "data.columns"
   ]
  },
  {
   "cell_type": "code",
   "execution_count": 9,
   "metadata": {},
   "outputs": [],
   "source": [
    "data['metric'] = data.apply(\n",
    "    lambda row: row['estimation'] / 3600 if row['status'] == 'Создано' else 0, axis=1\n",
    ")"
   ]
  },
  {
   "cell_type": "code",
   "execution_count": 20,
   "metadata": {},
   "outputs": [
    {
     "data": {
      "text/plain": [
       "array(['Закрыто', 'Тестирование', 'Отклонен исполнителем', 'Исправление',\n",
       "       'Анализ', 'Создано', 'Выполнено', 'Отложен', 'В работе',\n",
       "       'Готово к разработке', 'СТ', 'Подтверждение исправления',\n",
       "       'Разработка', 'Подтверждение', 'СТ Завершено', 'Локализация',\n",
       "       'В ожидании'], dtype=object)"
      ]
     },
     "execution_count": 20,
     "metadata": {},
     "output_type": "execute_result"
    }
   ],
   "source": [
    "data['status'].unique()"
   ]
  },
  {
   "cell_type": "code",
   "execution_count": 22,
   "metadata": {},
   "outputs": [
    {
     "data": {
      "text/plain": [
       "0    False\n",
       "1    False\n",
       "2    False\n",
       "3    False\n",
       "4    False\n",
       "5    False\n",
       "6    False\n",
       "7    False\n",
       "8    False\n",
       "9    False\n",
       "Name: metric, dtype: bool"
      ]
     },
     "execution_count": 22,
     "metadata": {},
     "output_type": "execute_result"
    }
   ],
   "source": [
    "if \n",
    "\n",
    "data['metric'].isna().head(10)"
   ]
  },
  {
   "cell_type": "code",
   "execution_count": 15,
   "metadata": {},
   "outputs": [],
   "source": [
    "columns_to_drop = ['state', 'name', 'updated_by', 'parent_ticket_id', 'assignee', 'owner', 'due_date', 'rank', 'spent', 'workgroup', 'history_version', 'history_change_type', 'history_change', 'Столбец1']"
   ]
  },
  {
   "cell_type": "code",
   "execution_count": 16,
   "metadata": {},
   "outputs": [],
   "source": [
    "data = data.drop(columns=columns_to_drop)"
   ]
  },
  {
   "cell_type": "code",
   "execution_count": 17,
   "metadata": {},
   "outputs": [
    {
     "data": {
      "text/plain": [
       "Index(['entity_id', 'area', 'type', 'status', 'priority', 'ticket_number',\n",
       "       'create_date', 'created_by', 'update_date', 'estimation', 'resolution',\n",
       "       'sprint_name', 'sprint_status', 'sprint_start_date', 'sprint_end_date',\n",
       "       'entity_ids', 'history_property_name', 'history_date'],\n",
       "      dtype='object')"
      ]
     },
     "execution_count": 17,
     "metadata": {},
     "output_type": "execute_result"
    }
   ],
   "source": [
    "data.columns"
   ]
  },
  {
   "cell_type": "code",
   "execution_count": 22,
   "metadata": {},
   "outputs": [
    {
     "data": {
      "text/plain": [
       "array(['Средний', 'Критический', 'Высокий', 'Низкий'], dtype=object)"
      ]
     },
     "execution_count": 22,
     "metadata": {},
     "output_type": "execute_result"
    }
   ],
   "source": [
    "data['priority'].unique()"
   ]
  }
 ],
 "metadata": {
  "kernelspec": {
   "display_name": "new_conda_ml",
   "language": "python",
   "name": "new_conda_ml"
  },
  "language_info": {
   "codemirror_mode": {
    "name": "ipython",
    "version": 3
   },
   "file_extension": ".py",
   "mimetype": "text/x-python",
   "name": "python",
   "nbconvert_exporter": "python",
   "pygments_lexer": "ipython3",
   "version": "3.10.14"
  }
 },
 "nbformat": 4,
 "nbformat_minor": 2
}
